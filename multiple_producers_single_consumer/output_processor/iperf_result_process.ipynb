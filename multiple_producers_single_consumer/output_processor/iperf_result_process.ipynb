{
 "cells": [
  {
   "cell_type": "code",
   "execution_count": null,
   "metadata": {},
   "outputs": [],
   "source": [
    "import os\n",
    "import pandas\n",
    "import matplotlib\n",
    "import matplotlib.pyplot\n",
    "from matplotlib.ticker import EngFormatter"
   ]
  },
  {
   "cell_type": "code",
   "execution_count": null,
   "metadata": {},
   "outputs": [],
   "source": [
    "file = open(\"server_output.csv\")"
   ]
  },
  {
   "cell_type": "code",
   "execution_count": null,
   "metadata": {},
   "outputs": [],
   "source": [
    "file_content = file.read()"
   ]
  },
  {
   "cell_type": "code",
   "execution_count": null,
   "metadata": {},
   "outputs": [],
   "source": [
    "last_prefix = None"
   ]
  },
  {
   "cell_type": "code",
   "execution_count": null,
   "metadata": {},
   "outputs": [],
   "source": [
    "last_prefix = None\n",
    "new_file_content = \"\"\n",
    "for line in file_content.split(\"\\n\"):\n",
    "    line_fragments = line.split(\",\")\n",
    "    if len(line_fragments) == 3:\n",
    "        last_prefix = line.replace(\"k\", \"000\").replace(\"G\", \"000000000\")\n",
    "    else:\n",
    "        new_file_content += last_prefix + \",\" + line + \"\\n\""
   ]
  },
  {
   "cell_type": "code",
   "execution_count": null,
   "metadata": {},
   "outputs": [],
   "source": [
    "with open(\"server_output_m.csv\", \"w\") as destiny_file:\n",
    "    destiny_file.write(\"clients_number,datagram_size,bandwidth,date,receiver_ip,receiver_port,sender_ip,sender_port,number,time_slot,bytes_sent,real_bandwidth,jitter,datagrams_lost,datagrams_sent,drop_rate,out_of_order\\n\")\n",
    "    destiny_file.write(new_file_content)"
   ]
  },
  {
   "cell_type": "code",
   "execution_count": null,
   "metadata": {},
   "outputs": [],
   "source": [
    "b = pandas.read_csv(\"server_output_m.csv\")"
   ]
  },
  {
   "cell_type": "markdown",
   "metadata": {},
   "source": [
    "Content of last line in measurements vary from sth. It can be summary from 0 sec to 10 sec or just 9-10 result. \n",
    "So I will just remove both."
   ]
  },
  {
   "cell_type": "code",
   "execution_count": null,
   "metadata": {},
   "outputs": [],
   "source": [
    "removed_summaries = b[b[\"time_slot\"] != \"0.0-10.0\"] "
   ]
  },
  {
   "cell_type": "code",
   "execution_count": null,
   "metadata": {},
   "outputs": [],
   "source": [
    "removed_last_time_slot = removed_summaries[removed_summaries[\"time_slot\"] != \"9.0-10.0\"]"
   ]
  },
  {
   "cell_type": "code",
   "execution_count": null,
   "metadata": {},
   "outputs": [],
   "source": [
    "cleaned = removed_last_time_slot"
   ]
  },
  {
   "cell_type": "code",
   "execution_count": null,
   "metadata": {},
   "outputs": [],
   "source": [
    "grouped_results = cleaned.groupby([\"bandwidth\", \"datagram_size\"])"
   ]
  },
  {
   "cell_type": "code",
   "execution_count": null,
   "metadata": {},
   "outputs": [],
   "source": [
    "summed = grouped_results.sum()"
   ]
  },
  {
   "cell_type": "code",
   "execution_count": null,
   "metadata": {},
   "outputs": [],
   "source": [
    "summed[\"drop_rate\"] = summed[\"datagrams_lost\"] / summed[\"datagrams_sent\"]"
   ]
  },
  {
   "cell_type": "code",
   "execution_count": null,
   "metadata": {},
   "outputs": [],
   "source": [
    "sorted_summed = summed.sort_index(\"index\")"
   ]
  },
  {
   "cell_type": "code",
   "execution_count": null,
   "metadata": {},
   "outputs": [],
   "source": [
    "y_label=\"drop_rate\"\n",
    "matplotlib.pyplot.xscale(\"log\")\n",
    "fig = matplotlib.pyplot.figure(1)\n",
    "def get_label(value, unit):\n",
    "    unit_scale_map = {1000000000: \"G\",\n",
    "                      1000000: \"M\",\n",
    "                      1000: \"K\",\n",
    "                      1: \"\"}\n",
    "    for scale in unit_scale_map.keys():\n",
    "        scaled_value = value * 1.0 / scale\n",
    "        if scaled_value >= 1:\n",
    "            scaled_value_with_unit = str(scaled_value) + \\\n",
    "                                    \" \" + unit_scale_map[scale] + unit\n",
    "            return scaled_value_with_unit\n",
    "    \n",
    "ax = fig.axes[0]\n",
    "for bandwidth in sorted_summed.index.levels[0]:\n",
    "    data = sorted_summed.loc[(bandwidth,)]\n",
    "    label = get_label(bandwidth, \"bit\")\n",
    "    data.plot(y=y_label, label=label, ax=ax)\n",
    "formatter0 = EngFormatter(unit='bytes')\n",
    "ax.xaxis.set_major_formatter(formatter0)\n",
    "ax.grid(True, which='major', axis='x' )\n",
    "ax.grid(True, which='major', axis='y' )\n",
    "ax.set_xlabel(\"datagram size [log]\")\n",
    "ax.set_title(\"Drop rate in different bandwidth\\nDefault settings, 3 senders : 1 receiver\")\n",
    "ax.set_ylabel(\"Drop rate [0-1]\")\n",
    "ax.set_yticks([i / 100 for i in range(0, 110, 10)])\n",
    "ax.set_xticks([1000, 2000, 4000, 8000, 16000, 32000, 60000])\n",
    "fig = matplotlib.pyplot.gcf()\n",
    "fig.set_size_inches(12, 8)\n",
    "matplotlib.pyplot.savefig(\"drop_rate.png\")"
   ]
  },
  {
   "cell_type": "code",
   "execution_count": null,
   "metadata": {},
   "outputs": [],
   "source": []
  }
 ],
 "metadata": {
  "kernelspec": {
   "display_name": "Python 3",
   "language": "python",
   "name": "python3"
  },
  "language_info": {
   "codemirror_mode": {
    "name": "ipython",
    "version": 3
   },
   "file_extension": ".py",
   "mimetype": "text/x-python",
   "name": "python",
   "nbconvert_exporter": "python",
   "pygments_lexer": "ipython3",
   "version": "3.7.6"
  }
 },
 "nbformat": 4,
 "nbformat_minor": 2
}
